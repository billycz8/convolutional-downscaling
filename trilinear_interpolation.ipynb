{
 "cells": [
  {
   "cell_type": "code",
   "execution_count": 2,
   "metadata": {},
   "outputs": [],
   "source": [
    "import numpy as np\n",
    "from scipy.ndimage import zoom\n",
    "\n",
    "def trilinear_downscale(inputs, target_size):\n",
    "    \"\"\"\n",
    "    Downscales the second dimension (dimension 1) using trilinear interpolation.\n",
    "    \n",
    "    Args:\n",
    "        inputs (np.ndarray): Input array of shape (N, D, H, W, C)\n",
    "        target_size (int): The target size for the second dimension (D)\n",
    "    \n",
    "    Returns:\n",
    "        np.ndarray: Downscaled array of shape (N, new_D, H, W, C)\n",
    "    \"\"\"\n",
    "    # Compute the zoom factor for downscaling\n",
    "    zoom_factor = target_size / inputs.shape[1]\n",
    "    \n",
    "    # Create a zoom array where the zoom factor is applied to dimension 1\n",
    "    zoom_factors = [1.0, zoom_factor, 1.0, 1.0, 1.0]\n",
    "    \n",
    "    # Apply the zoom function\n",
    "    downscaled = zoom(inputs, zoom_factors, order=1)  # order=1 for trilinear interpolation\n",
    "    \n",
    "    return downscaled\n",
    "test_inputs = np.random.rand(10, 3, 32, 32, 1)  # Example data\n",
    "target_size = 2  # New size for the dimension 1\n",
    "\n",
    "downscaled_inputs = trilinear_downscale(test_inputs, target_size)\n",
    "print(downscaled_inputs.shape)"
   ]
  },
  {
   "cell_type": "code",
   "execution_count": 3,
   "metadata": {},
   "outputs": [
    {
     "name": "stdout",
     "output_type": "stream",
     "text": [
      "(10, 2, 32, 32, 1)\n"
     ]
    }
   ],
   "source": [
    "def trilinear_downscale(inputs, target_size):\n",
    "    \"\"\"\n",
    "    Downscales the second dimension (dimension 1) using trilinear interpolation.\n",
    "    \n",
    "    Args:\n",
    "        inputs (np.ndarray): Input array of shape (N, D, H, W, C)\n",
    "        target_size (int): The target size for the second dimension (D)\n",
    "    \n",
    "    Returns:\n",
    "        np.ndarray: Downscaled array of shape (N, new_D, H, W, C)\n",
    "    \"\"\"\n",
    "    # Compute the zoom factor for downscaling\n",
    "    zoom_factor = target_size / inputs.shape[1]\n",
    "    \n",
    "    # Create a zoom array where the zoom factor is applied to dimension 1\n",
    "    zoom_factors = [1.0, zoom_factor, 1.0, 1.0, 1.0]\n",
    "    \n",
    "    # Apply the zoom function\n",
    "    downscaled = zoom(inputs, zoom_factors, order=1)  # order=1 for trilinear interpolation\n",
    "    \n",
    "    return downscaled\n",
    "test_inputs = np.random.rand(10, 3, 32, 32, 1)  # Example data\n",
    "target_size = 2  # New size for the dimension 1\n",
    "\n",
    "downscaled_inputs = trilinear_downscale(test_inputs, target_size)\n",
    "print(downscaled_inputs.shape)"
   ]
  }
 ],
 "metadata": {
  "kernelspec": {
   "display_name": "venv",
   "language": "python",
   "name": "python3"
  },
  "language_info": {
   "codemirror_mode": {
    "name": "ipython",
    "version": 3
   },
   "file_extension": ".py",
   "mimetype": "text/x-python",
   "name": "python",
   "nbconvert_exporter": "python",
   "pygments_lexer": "ipython3",
   "version": "3.11.7"
  }
 },
 "nbformat": 4,
 "nbformat_minor": 2
}
